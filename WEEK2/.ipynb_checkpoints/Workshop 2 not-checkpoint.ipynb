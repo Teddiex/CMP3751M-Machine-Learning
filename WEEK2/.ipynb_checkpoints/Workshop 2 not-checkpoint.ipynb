{
 "cells": [
  {
   "cell_type": "markdown",
   "id": "2378df27",
   "metadata": {},
   "source": [
    "# Machine Learning Workshp 1 : Model selection & evaluation\n",
    "Welecome to our second workshop!\n",
    "It consists of four tasks of advancing difficulty.\n",
    "Please devote approximately 15 minutes per task\n",
    "Prior to each task we will discuss some theoretical aspects regarding fundamental concepts of evaluation and selection of machine learning algorithms. We will explain the details of the Python functions and libraries that we will use."
   ]
  },
  {
   "cell_type": "markdown",
   "id": "417dd41c",
   "metadata": {},
   "source": [
    "# Table of Contents\n",
    "1. [Theoretical and Computational Background - 1](#Background-1)\n",
    "    1. [Pandas DataFrames](#Pandas-DataFrames)\n",
    "    1. [Python Functions](#Python-Functions)\n",
    "    1. [Noise Generation](#Noise-Generation)\n",
    "    1. [Coefficient of determination](#Coefficient-of-determination)\n",
    "    1. [Root Mean Squared Error](#Root-Mean-Squared-Error)\n",
    "1. [Exercise 1:The basics of model evaluation](#Exercise-1:The-basics-of-model-evaluation)\n",
    "1. [Theoretical and Computational Background - 2](#Background-2)\n",
    "    1. [Accuracy](#Accuracy)\n",
    "    1. [Confusion Matrix](#Confusion-Matrix)\n",
    "    1. [Precision-Recall](#Precision---Recall)\n",
    "1. [Exercise 2:Applying model evaluation metrics](#Exercise-2:-Applying-model-evaluation-metrics)\n",
    "1. [Theoretical and Computational Background - 3](#Background-3)\n",
    "1. [Exercise 3: Selecting the optimal model](#Exercise-3:-Selecting-the-optimal-model)\n",
    "1. [Theoretical and Computational Background - 4](#Background-4)\n",
    "1. [Exercise 4: Cross-Fold Validation](#Exercise-4-:-Cross-fold-validation)\n",
    "1. [References](3References)\n",
    "1. [Workshop Evaluation](#Workshop-Evaluation)"
   ]
  },
  {
   "cell_type": "markdown",
   "id": "c8d9ec3d",
   "metadata": {},
   "source": [
    "## Background 1\n",
    "\n",
    "We will acquire here the following skills:\n",
    "1. Learn about __pandas dataframes__\n",
    "2. Code a __noise generation function__\n",
    "3. What is and how to compute the __coefficient of determination ($R^2$)__\n",
    "4. What is and how to compute the __Root Mean Squared Error (RMSE)__"
   ]
  },
  {
   "cell_type": "markdown",
   "id": "017ed5ea",
   "metadata": {},
   "source": [
    "### Pandas DataFrames\n",
    "1. __Panel Data (Pandas)__ is a Python library used for working with datasets.\n",
    "1. It has functions for analyzing, cleaning, exploring and manipulating data.\n",
    "1. We import pandas using the ```import``` keyword: \n",
    "``` import pandas as pd```.\n",
    "1. A pandas series is like a column in a table. It is a __one-dimensional array__ holding data of any type.\n",
    "1. Here is an example of how to create a pandas Series: \n",
    "```python \n",
    "import pandas as pd\n",
    "age=[23,35,45]\n",
    "mySeries=pd.Series(age)\n",
    "print(mySeries)\n",
    "```\n",
    "1. If nothing else is specified, the values are labeled with their index number.\n",
    "1. First value has index 0, second has index 1, etc.\n",
    "1. This label can be used to access a specified value: ```print(mySeries[0])```\n",
    "1. You can name your own labels using the ```index``` argument: \n",
    "```python\n",
    "import pandas as pd\n",
    "age=[23,35,45]\n",
    "mySeries=pd.Series(age,index=[\"Student 1\",\"Student 2\",\"Student 3\"])\n",
    "print(mySeries)\n",
    "```\n",
    "1. Data sets in Pandas are usually __multi-dimensional tables__, called __DataFrames__.\n",
    "1. __Series__ is like a column, whereas a __DataFrame__ is the whole table.\n",
    "1. A __Pandas DataFrame__ is a two-dimensional data structure. It is like a 2-D array/table with rows and columns: \n",
    "```python\n",
    "import pandas as pd\n",
    "data={\n",
    "    \"Weight\":[70,89,90],\n",
    "    \"Height\":[1.71,1.89,2.02]\n",
    "}\n",
    "#load data into a DataFrame object:\n",
    "df=pd.DataFrame(data)\n",
    "print(df)\n",
    "```\n",
    "1. Pandas use the ```loc``` attribute to return one or more specified rows: \n",
    "```python\n",
    "#refer to the first row:\n",
    "print(df.loc[0])\n",
    "```\n",
    "1. If we wish two or more rows, we use a list of indices:\n",
    "```python\n",
    "print(df.loc[[0,1]])\n",
    "```\n",
    "1. We can also give a name to each row:\n",
    "```python\n",
    "import pandas as pd\n",
    "data={\n",
    "    \"Weight\":[70,89,90],\n",
    "    \"Height\":[1.71,1.89,2.02]\n",
    "}\n",
    "# load data into a DataFrame object:\n",
    "df=pd.DataFrame(data,index=[\"Student 1\",\"Student 2\",\"Student 3\"])\n",
    "print(df)\n",
    "```\n",
    "1. If your dataset is stored in a file, __Pandas__ can load them into a __DataFrame__:\n",
    "```python\n",
    "import pandas as pd\n",
    "df = pd.read_csv('data.csv')\n",
    "print(df)\n",
    "```\n",
    "1. More information can be found in the following __[Pandas Tutorial](https://www.w3schools.com/python/pandas/default.asp)__"
   ]
  },
  {
   "cell_type": "markdown",
   "id": "67ab15de",
   "metadata": {},
   "source": [
    "### Python Functions\n",
    "1. A __function__ is a __block of code__, which only runs when it is called.\n",
    "1. We can __pass data__, known as __parameters__ into a function.\n",
    "1. A __function__ can __return data__ as a __result__.\n",
    "1. In Python a function is defined using the __```def```__ keyword: \n",
    "```python\n",
    "def my_function(parameters):\n",
    "    body function\n",
    "```\n",
    "1. To __call__ a function, use the __function name__, followed by __parenthesis__: \n",
    "```python\n",
    "function_name(parameters)\n",
    "```"
   ]
  },
  {
   "cell_type": "markdown",
   "id": "42cfa8e5",
   "metadata": {},
   "source": [
    "### Noise Generation\n",
    "When we are generating synthetic data, we usually produce them through an equation (e.g. $y=ax+b$). Aiming to better simulate real-world conditions, we also generate some random noise, which we add then to the previous equation. To do so, we implement the following steps:\n",
    "\n",
    "Firstly, we define the x-values by calling the function ```np.linspace(start,stop,num,endpoint=True,dtype,axis=0)```.\n",
    "1. The __start__ and __stop__ values denote the starting and end value of the sequence.\n",
    "1. If __```endpoint=True```__, the __stop__ parameter is the last sample. Otherwise, it is not included.\n",
    "1. The __```dtype```__ is an optional parameter, denoting the type of the output array.\n",
    "1. If it is not given, the data type is inferred from __start__ and __stop__.\n",
    "1. The inferred dtype __will never be an integer__, since __float is chosen__ even if the arguments would produce an array of integers.\n",
    "\n",
    "The __```numpy.random.normal(loc,scale,size)```__ draws __random__ samples from a __normal (Gaussian)__ distribution.\n",
    "1. The __```loc```__ (float parameter) denotes the __mean/centre__ of the distribution.\n",
    "1. The __```scale```__(float parameter) denotes the __standard deviation (spread\\width)__ of the distribution. It must be non-negative.\n",
    "1. The __```size```__(int or tuple of ints) is an optional parameter. It denotes the __output shape__. If the given shape is __```(m,n,k)```__, then __```m * n * k```__ samples are drawn.\n",
    "\n",
    "According to the following, the function for generating synthetic data with noise may look like:\n",
    "```python\n",
    "# Noise Generation Function\n",
    "def noise(mean_val,std_val,points):\n",
    "    return np.random.normal(mean_val,std_val,points)\n",
    "\n",
    "# Simulate the target variable\n",
    "data= x**2+0.5+noise(0,0.5,points)\n",
    "```"
   ]
  },
  {
   "attachments": {
    "Linear%20Regression-2.png": {
     "image/png": "[encoded data removed]"
    }
   },
   "cell_type": "markdown",
   "id": "22225d16",
   "metadata": {},
   "source": [
    "### Coefficient of determination\n",
    "1. It is easy and intuitive to correlate.\n",
    "1. Assume we have to predict the weight of several students according to their height information.\n",
    "1. We may use the black line denoting the mean value. We may have a guess but is there a better approach?\n",
    "1. This could be done by fitting a regression model.\n",
    "1. The coefficient of Determination $R^2$ gives us a good measure of how well your model fits the data.\n",
    "1. its formula is the following: $R^2 = 1 - \\frac{{\\text{Sum of Squares of Residuals}}}{{\\text{Total Sum of Squares}}} $\n",
    "1. It actually tells you how well the regression model fits the data.\n",
    "1. The __$R^2$__ value ranges from __0 to 1__.\n",
    "1. A __zero value__ indicates that the regression model __explains none of the variance in the dependent variable__ (poor fit).\n",
    "1. __Higher values__ indicate a __better fit__, meaning that a __larger proportion of the data variability__ is explained by the model.\n",
    "1. You may use this evaluation metric in Python by importing the r2_score from the sklearn.metrics:\n",
    "```python\n",
    "from sklearn.metrics import r2_score\n",
    "```\n",
    "<br>\n",
    "\n",
    "![Linear%20Regression-2.png](attachment:Linear%20Regression-2.png)"
   ]
  },
  {
   "cell_type": "markdown",
   "id": "7cf9d598",
   "metadata": {},
   "source": [
    "### Root Mean Squared Error\n",
    "1. It quantifies the __average magnitude__ of the errors or residuals.\n",
    "1. These are the __differences between the predicted and the observed values__ in model's predictions.\n",
    "1. It is a measure of __how well__ the predicted values are aligned with the actual values.\n",
    "1. Its mathematic formula is given by $ RMSE = \\sqrt{\\frac{1}{n}\\sum_{i=1}^{n}(y_i - \\hat{y}_i)^2} $\n",
    "1. The number of data points are denoted by the variable $n$.\n",
    "1. The actual values of the dependent variable are denoted by $y_i$.\n",
    "1. The predicted values of the dependent variable are denoted by $\\hat{y}_i$.\n",
    "1. The __RMSE__ is expressed in the same units as the dependent variable, making it interpretable.\n",
    "1. __Smaller RMSE values__ indicate that the model's predictions __are closer__ to the actual values and therefore a __better fit__ to the data.\n",
    "1. In Python, you can calculate the __RMSE__ using the following code:\n",
    "\n",
    "```python\n",
    "from sklearn.metrics import mean_squared_error\n",
    "import numpy as np\n",
    "\n",
    "# Assuming you have y_true (observed values) and y_pred (predicted values)\n",
    "rmse = np.sqrt(mean_squared_error(y_true, y_pred))\n",
    "print(\"RMSE:\", rmse)\n",
    "```"
   ]
  },
  {
   "cell_type": "markdown",
   "id": "c983ecc0",
   "metadata": {},
   "source": [
    "# Exercise 1:The basics of model evaluation\n",
    "In this exercise you will learn how to evaluate the performance of two regression models according to basic evaluation metrics such as the __Root Mean Squared Error__ and the __$R^2$__.\n",
    "<br>\n",
    "To do so you firstly load the __'Exercise1.csv'__ file which contains one column for training, validation and test data respectively. Each category consists of 100 sample points (usually you will have 60% train data, 20% validation data and 20% test data).\n",
    "Then, you should create the following two models: __Model1__ which is given by the equation $y1=x+0.5$ and __Model2__ which is given by the equation $y2=0.8x^2+0.5$.\n",
    "1. Visualize the train data and the two models. Which one seems to be closer to the actual data distribution?\n",
    "1. Justify your reply by quantifying the __Root Mean Squared Error__ and the __$R^2$__ for each one model.\n",
    "1. How can you interpret the Coefficient of determination for Model 1?\n",
    "1. Compute again the evaluation metrics for the validation and test data. How the values change? What can you conclude?"
   ]
  },
  {
   "cell_type": "code",
   "execution_count": 93,
   "id": "548f8841",
   "metadata": {},
   "outputs": [
    {
     "data": {
      "text/plain": [
       "<matplotlib.legend.Legend at 0x1c1b8e594d0>"
      ]
     },
     "execution_count": 93,
     "metadata": {},
     "output_type": "execute_result"
    },
    {
     "data": {
      "image/png": "[encoded data removed]",
      "text/plain": [
       "<Figure size 640x480 with 1 Axes>"
      ]
     },
     "metadata": {},
     "output_type": "display_data"
    }
   ],
   "source": [
    "import numpy as np\n",
    "import pandas as pd\n",
    "import matplotlib.pyplot as plt\n",
    "\n",
    "df = pd.read_csv(\"Exercise1.csv\")\n",
    "x = df.Data\n",
    "y1 = np.empty_like(x)\n",
    "y2 = np.empty_like(x)\n",
    "for i,xi in enumerate(x):\n",
    "    y1[i]= xi+0.5\n",
    "    y2[i]= 0.8*pow(xi,2)+0.5\n",
    "\n",
    "plt.scatter(x,y1, label='Model1', color = 'r')\n",
    "plt.scatter(x,y2, label='Model2', color = 'green')\n",
    "plt.xlabel('x')\n",
    "plt.ylabel('y')\n",
    "plt.legend()"
   ]
  },
  {
   "cell_type": "markdown",
   "id": "129df2fd",
   "metadata": {},
   "source": [
    "## Background 2\n",
    "We will revise here the concept of binary classification as well as its most known evaluation metrics, which are:\n",
    "1. __Accuracy__\n",
    "2. __Confusion Matrix__\n",
    "3. __Precision-Recall__"
   ]
  },
  {
   "cell_type": "markdown",
   "id": "eb5dbd56",
   "metadata": {},
   "source": [
    "### Accuracy\n",
    "1. It is a common metric used to quantify the overall correctness of the predictions made by a classification model.\n",
    "1. It quantifies the __ratio__ of __correctly predicted__ instances to the __total number__ of instances in the dataset.\n",
    "1. Its mathematical formula is : $ \\text{Accuracy} = \\frac{\\text{Number of Correct Predictions}}{\\text{Total Number of Predictions}}$\n",
    "1. It is typically expressed as a __percentage ratio__.\n",
    "1. __Higher values__ indicate a __better-performing__ model.\n",
    "1. __Accuracy__ can be __misleading__ in case of __imbalanced__ datasets.\n",
    "1. In Python, we calculate __accuracy__ as follows:\n",
    "\n",
    "```python\n",
    "from sklearn.metrics import accuracy_score\n",
    "\n",
    "# Assuming you have y_true (true class labels) and y_pred (predicted class labels)\n",
    "accuracy = accuracy_score(y_true, y_pred)\n",
    "print(\"Accuracy:\", accuracy)\n",
    "```"
   ]
  },
  {
   "attachments": {
    "Confusion%20Matrix.png": {
     "image/png": "[encoded data removed]"
    }
   },
   "cell_type": "markdown",
   "id": "fb97aee5",
   "metadata": {},
   "source": [
    "### Confusion Matrix\n",
    "1. It is a __table__ used in __classification tasks__ to __evaluate__ the __performance__ of a machine learning model.\n",
    "1. It is very popular in __binay classification__ problems, where there are __two__ possible outcomes: __positive__ and __negative__.\n",
    "1. It provides a __detailed breakdown__ of the model's __predictions__ and the __actual__ class labels.\n",
    "<br>\n",
    "\n",
    "The __confusion matrix__ consists of __four__ important __metrics__:\n",
    "\n",
    "\n",
    "1. __True Positives (TP)__: These are cases in which the model __correctly__ predicted the __positive__ class.\n",
    "1. __True Negatives (TN)__: These are cases in which the model __correctly__ predicted the __negative__ class.\n",
    "1. __False Positives (FP)__: These are cases in which the model __incorrectly__ predicted the __positive__ class when it was actually the __negative__ class. Also known as __\"Type I error\"__.\n",
    "1. __False Negatives (FN)__: These are cases in which the model __incorrectly__ predicted the __negative__ class when it was actually the __positive__ class.Also known as __\"Type II error\"__.\n",
    "\n",
    "To __compute__ and __visualize__ the __confusion matrix__ in Python, you may use the following code:\n",
    "``` python\n",
    "import matplotlib.pyplot as plt\n",
    "from sklearn import metrics\n",
    "# Assuming that y_actual are the true outputs and y_predicted are the outputs predicted by the model\n",
    "confusion_matrix=metrics.confusion_matrix(y_actual,y_predicted)\n",
    "cm_display=metrics.ConfusionMatrixDisplay(confusion_matrix=confusion_matrix,display_labels=[False,True])\n",
    "cm_display.plot()\n",
    "plt.show()\n",
    "\n",
    "```\n",
    "![Confusion%20Matrix.png](attachment:Confusion%20Matrix.png)\n",
    "\n",
    "So, the __confusion matrix__ provides a __comprehensive view__ of the model's performance. It __reveals__ not only the number of correct and incorrect predictions, but also the __types of errors__ the model is making. It is a __valuable tool__ for __evaluating classification models__ and __making informed decisions__ about __model improvements__ and __adjustments__."
   ]
  },
  {
   "cell_type": "markdown",
   "id": "edc2a50b",
   "metadata": {},
   "source": [
    "### Precision - Recall\n",
    "1. __Precision (P)__ is defined as the number of __true positives__ over the number of __true positives__ plus the number of __false positives__.\n",
    "1. Its mathematical formula is : $\\text{Precision} = \\frac{\\text{True Positives (TP)}}{\\text{True Positives (TP)} + \\text{False Positives (FP)}}$\n",
    "1.  __Recall (R)__ is defined as the number of __true positives__ over the number of __true positives__ plus the number of __false negatives__.\n",
    "1. It is a __useful__ measure of success of prediction, when the __classes__ are very __imbalanced__.\n",
    "1. Its mathematical formula is : $\\text{Recall} = \\frac{\\text{True Positives (TP)}}{\\text{True Positives (TP)} + \\text{False Negatives (FN)}}$\n",
    "1. __Precision__ quantifies the __model's ability__ to identify __only the relevant cases__ within a dataset.\n",
    "1. __Recall__ quantifies the __model's ability__ to find __all the relevant cases__ within a dataset."
   ]
  },
  {
   "cell_type": "markdown",
   "id": "53803d2b",
   "metadata": {},
   "source": [
    "# Exercise 2: Applying model evaluation metrics\n",
    "In this exercise you will learn how to apply the most common classification evaluation metrics such as the __1) accuracy, 2) confusion matrix, 3) precision and recall__. You will also to learn to identify cases that a specific metric is not indicative of the actual performance of the algorithm.\n",
    "\n",
    "1. Firstly, you load as a __dataframe__ the __'Classification.csv'__ file provided to you.\n",
    "2. Compute the accuracy metric and discuss the obtained value.\n",
    "3. Then estimate the confusion matrix and compare the results with the accuracy score. What do you observe?\n",
    "4. Finally estimate the precision and recall scores and make a comparative synthesis of the performance of the classification model."
   ]
  },
  {
   "cell_type": "code",
   "execution_count": 1,
   "id": "bac117ae",
   "metadata": {},
   "outputs": [],
   "source": [
    "# Place the code here"
   ]
  },
  {
   "cell_type": "markdown",
   "id": "c4ef9a18",
   "metadata": {},
   "source": [
    "## Background 3\n",
    "Apart from __linear__ decision boundaries, we may need to define __non-linear__ ones such as a __circular__ decision boundary. To do so, we need to __plot a circle__ using the Matplotlib library. To do so, we implement the following steps:\n",
    "1. Firstly, we define the center and radius of the circle:\n",
    "```python\n",
    "# Define the center and radius of the circle\n",
    "center = (0, 0)\n",
    "radius = 1\n",
    "```\n",
    "1. Then, we create an array of angles (theta) from $0$ to $2*pi$:\n",
    "```python\n",
    "theta = np.linspace(0, 2*np.pi, 100)\n",
    "```\n",
    "1. Calculate the x and y coordinates of the points on the circle:\n",
    "```python\n",
    "x = center[0] + radius * np.cos(theta)\n",
    "y = center[1] + radius * np.sin(theta)\n",
    "```"
   ]
  },
  {
   "cell_type": "markdown",
   "id": "273bda6f",
   "metadata": {},
   "source": [
    "# Exercise 3: Selecting the optimal model\n",
    "In this exercise you will learn to select the most suitable model according to your data.\n",
    "1. Firstly, you load the file __'Dataset1.csv'__. Visualize the data of the two classes (Class 1 would be with blue and class 2 will be with red color.\n",
    "1. Which is the equation of the __optimal decision boundary__?\n",
    "1. Compute that boundary by __quantifying the parameters of the equation__ and visualize it (in the same graph with the two class) with green color.\n",
    "1. Compute the accuracy and the confusion matrix for that dataset and decision boundary.\n",
    "1. Repeat the same steps for the file __'Dataset2.csv'__. Why do you have different results now?"
   ]
  },
  {
   "cell_type": "markdown",
   "id": "77ddebec",
   "metadata": {},
   "source": [
    "## Background 4\n",
    "__Cross-fold validation__ is a widely used technique to assess the __performance__ and __generalization__ of a machine learning model.\n",
    "It helps in __estimating how well__ a model will __perform__ on __unseen data__, which is crucial for __avoiding__ either __overfitting__ or __underfitting__.\n",
    "<br>\n",
    "It involves __dividing__ a dataset into __multiple subsets or folds__, __training__ and __evaluating__ the model __multiple times__ and then __aggregating__ the results.\n",
    "<br>\n",
    "One of the __most commonly used__ cross-validation techniques is __k-fold cross-validation__.\n",
    "<br>\n",
    "To __perform k=5__ cross-fold validation in Python, you should insert the following libraries:\n",
    "```python\n",
    "from sklearn.model_selection import KFold\n",
    "from sklearn.model_selection import cross_val_score\n",
    "import numpy as np\n",
    "```\n",
    "Then you __create__ a __k-fold__ cross-validation object:\n",
    "```python\n",
    "kfold = KFold(n_splits=5, shuffle=True, random_state=42)\n",
    "```"
   ]
  },
  {
   "cell_type": "markdown",
   "id": "18c1f21a",
   "metadata": {},
   "source": [
    "# Exercise 4 : Cross-fold validation\n",
    "In this exercise we will dive into the importance of cross-fold validation.\n",
    "1. Firstly, we will __generate five different data distributions__ followng the model __$y=2*x+3$__. Each distribution consists of __100 data points__ of varying noise characteristics. More specifically, all noise distributions have __zero mean value__ but their __standard deviation__ would be __a) 1, b) 3, c) 0.5, d) 4 and e) 2__. Once you create these distributions, __concatenate__ them so as to __form the X and y data__.\n",
    "2. __Visualize__ the X and y data in a __scatterplot__. Observe, that they follow the line equation __$y=2*x+3$__ but there are a lot of outliers.\n",
    "3. Then, perform __5-fold cross-validation__ and compute the __evaluation metrics__ on the entire dataset."
   ]
  },
  {
   "cell_type": "code",
   "execution_count": 2,
   "id": "925a9b77",
   "metadata": {},
   "outputs": [],
   "source": [
    "# Place the code here"
   ]
  },
  {
   "cell_type": "markdown",
   "id": "7c37a334",
   "metadata": {},
   "source": [
    "# References\n",
    "__[Metrics and scoring in sklearn](https://scikit-learn.org/stable/modules/model_evaluation.html)__\n",
    "<br>\n",
    "__[Cross-validation](https://scikit-learn.org/stable/modules/cross_validation.html)__\n",
    "<br>\n",
    "__[An introduction to Jupyter Notebook](https://realpython.com/jupyter-notebook-introduction/)__\n",
    "<br>\n",
    "__[Mean Squared Error](https://scikit-learn.org/stable/modules/generated/sklearn.metrics.mean_squared_error.html)__\n",
    "<br>\n",
    "__[Coefficient of determination](https://scikit-learn.org/stable/modules/generated/sklearn.metrics.r2_score.html)__\n",
    "<br>\n",
    "__[Accuracy Score](https://scikit-learn.org/stable/modules/generated/sklearn.metrics.accuracy_score.html)__\n",
    "<br>\n",
    "__[Confusion Matrix](https://scikit-learn.org/stable/modules/generated/sklearn.metrics.confusion_matrix.html)__\n",
    "<br>\n",
    "__[Python Pandas Documentation](https://pandas.pydata.org/docs/user_guide/index.html#user-guide)__"
   ]
  },
  {
   "cell_type": "markdown",
   "id": "8bbbe6c5",
   "metadata": {},
   "source": [
    "# Workshop Evaluation\n",
    "Please visit the following link for __[Workshop 2 Evaluation](https://app.wooclap.com/PIHHOO?from=event-page)__\n",
    "<br>\n",
    "Tell us your opinion about this workshop and how we could become better in the next one.\n",
    "<br>\n",
    "__Your opinion matters!!!__"
   ]
  }
 ],
 "metadata": {
  "kernelspec": {
   "display_name": "Python 3 (ipykernel)",
   "language": "python",
   "name": "python3"
  },
  "language_info": {
   "codemirror_mode": {
    "name": "ipython",
    "version": 3
   },
   "file_extension": ".py",
   "mimetype": "text/x-python",
   "name": "python",
   "nbconvert_exporter": "python",
   "pygments_lexer": "ipython3",
   "version": "3.11.5"
  }
 },
 "nbformat": 4,
 "nbformat_minor": 5
}
